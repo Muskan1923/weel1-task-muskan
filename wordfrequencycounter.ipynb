{
 "cells": [
  {
   "cell_type": "code",
   "execution_count": 9,
   "id": "8118a465-d18f-4bd8-a85d-cc7dd8b44056",
   "metadata": {},
   "outputs": [],
   "source": []
  },
  {
   "cell_type": "code",
   "execution_count": 61,
   "id": "e047e429-8429-4476-842c-25efdbd19d34",
   "metadata": {},
   "outputs": [],
   "source": [
    "def read_file(file_name):\n",
    "    with open(f'{file_name}.txt','r') as f:\n",
    "         return f.read()"
   ]
  },
  {
   "cell_type": "code",
   "execution_count": 62,
   "id": "84ba06b2-bbdd-46ae-aa36-6b6730367890",
   "metadata": {},
   "outputs": [],
   "source": [
    "def normalize_text(text):\n",
    "    text=text.lower()\n",
    "    words=re.findall(r'\\b\\w+\\b',text)\n",
    "    return words"
   ]
  },
  {
   "cell_type": "code",
   "execution_count": 63,
   "id": "1aee97fc-e21a-476f-831a-ebbd3c8c0bb6",
   "metadata": {},
   "outputs": [],
   "source": [
    "def count_word_frequency(words):\n",
    "    word_freq={}\n",
    "    for word in words:\n",
    "        if word in word_freq:\n",
    "            word_freq[word]+=1\n",
    "        else:\n",
    "            word_freq[word]=1\n",
    "    return word_freq"
   ]
  },
  {
   "cell_type": "code",
   "execution_count": 64,
   "id": "a41f228f-dc97-4379-9083-9fe2eefcb3e9",
   "metadata": {},
   "outputs": [],
   "source": [
    "def sort_and_print(word_freq):\n",
    "    sort_word_freq=sorted(word_freq.items(),key=lambda item :item[1],reverse=True)\n",
    "    for key,value in sort_word_freq[:10]:\n",
    "        print(f'{key} {value}')"
   ]
  },
  {
   "cell_type": "code",
   "execution_count": 65,
   "id": "532aec8a-ef10-4538-b030-9c0d4ee41fe6",
   "metadata": {},
   "outputs": [],
   "source": [
    "def main():\n",
    "    import re\n",
    "    from collections import Counter\n",
    "    file_name=input('Enter the file name:')\n",
    "    text=read_file(file_name)\n",
    "    words=normalize_text(text)\n",
    "    word_freq=count_word_frequency(words)\n",
    "    sort_and_print(word_freq)"
   ]
  },
  {
   "cell_type": "code",
   "execution_count": 66,
   "id": "f99b2d44-a4bb-4553-a7c8-fc80673e5ae5",
   "metadata": {},
   "outputs": [
    {
     "name": "stdin",
     "output_type": "stream",
     "text": [
      "Enter the file name: file\n"
     ]
    },
    {
     "name": "stdout",
     "output_type": "stream",
     "text": [
      "the 17\n",
      "tortoise 9\n",
      "he 7\n",
      "and 7\n",
      "a 6\n",
      "rabbit 6\n",
      "but 4\n",
      "i 4\n",
      "little 3\n",
      "never 3\n"
     ]
    }
   ],
   "source": [
    "if __name__ == \"__main__\":\n",
    "    main()"
   ]
  },
  {
   "cell_type": "code",
   "execution_count": null,
   "id": "d56a5419-c1e6-4f02-9a33-94a2fbf63c14",
   "metadata": {},
   "outputs": [],
   "source": []
  }
 ],
 "metadata": {
  "kernelspec": {
   "display_name": "Python 3 (ipykernel)",
   "language": "python",
   "name": "python3"
  },
  "language_info": {
   "codemirror_mode": {
    "name": "ipython",
    "version": 3
   },
   "file_extension": ".py",
   "mimetype": "text/x-python",
   "name": "python",
   "nbconvert_exporter": "python",
   "pygments_lexer": "ipython3",
   "version": "3.12.5"
  }
 },
 "nbformat": 4,
 "nbformat_minor": 5
}
